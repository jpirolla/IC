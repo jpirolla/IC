{
  "nbformat": 4,
  "nbformat_minor": 0,
  "metadata": {
    "colab": {
      "provenance": [],
      "authorship_tag": "ABX9TyOBkWRnioZHBueNYdLc9tM6",
      "include_colab_link": true
    },
    "kernelspec": {
      "name": "python3",
      "display_name": "Python 3"
    },
    "language_info": {
      "name": "python"
    }
  },
  "cells": [
    {
      "cell_type": "markdown",
      "metadata": {
        "id": "view-in-github",
        "colab_type": "text"
      },
      "source": [
        "<a href=\"https://colab.research.google.com/github/jpirolla/AM/blob/main/teoria_IC.ipynb\" target=\"_parent\"><img src=\"https://colab.research.google.com/assets/colab-badge.svg\" alt=\"Open In Colab\"/></a>"
      ]
    },
    {
      "cell_type": "markdown",
      "source": [
        "# Similaridade de Jaccard (ou índice de Jaccard) \n",
        "\n",
        "### O que é? \n",
        "Trata-se de uma medida estatística utilizada para calcular a similaridade entre dois conjuntos de dados. \n",
        "\n",
        "Matematicamente, define-se o indice de Jaccard como a razão da cardinalidade da intersecção ela união dos dois conjuntos em questão, ou seja:\n",
        "\n",
        "$$ J_{A,B} = \\frac{|A \\cap B|}{|A\\cup B|} = \\frac{|A \\cap B|}{|A| + |B| - |A\\cup B|}$$ \n",
        "\n",
        "Note que temos 3 possíveis casos: \n",
        "1. Se ambos os conjuntos fores identicos, $J_{A,B}=1$.\n",
        "2. Se ambos forem disjuntos, segue que $J_{A,B}=0$.\n",
        "3. Se houver elementos em comum, temos então que a similaridade de Jaccard é um valor entre 0 e 1, ou seja, $0<J_{A,B}<1$.\n",
        "\n",
        "\n",
        "### Aplicações\n",
        "As medidas de similaridade de Jaccard podem ser utilizadas desde aplicações simples em semelhanças de conjuntos (sets) a semelhança de textos complexos "
      ],
      "metadata": {
        "id": "vOgEGGSOShxk"
      }
    },
    {
      "cell_type": "markdown",
      "source": [
        "# Distância de Jaccard \n",
        "\n",
        "### Qual a diferença entre a similaridade e distância de Jaccard? \n",
        "\n",
        "Nota-se que a similaridade, como o proprio nome diz, remete o quão similares ambos os conjuntos analisados são. Em contra partida, a **distância** nos fornece o quão _dissimilares_ os dois conjuntos são.\n",
        "\n",
        "Matematicamente, dizemos que tal medida é obtida através da razão da diferença entre a união do conjunto e a interseção do conjunto sobre a união do conjunto, ou seja, \n",
        "\n",
        "\n",
        "$$ d_J = \\frac{|A\\cup B| - |A \\cap B|}{|A\\cup B|} = 1-J_{A,B}.$$\n",
        "\n",
        "Tal como anteriormente, temos 3 casos possíveis: \n",
        "\n",
        "1. Se ambos os conjuntos fores identicos, $d_J=0$.\n",
        "2. Se ambos forem disjuntos, segue que $d_J=1$.\n",
        "3. Se houver elementos em comum, temos então que a similaridade de Jaccard é um valor entre 0 e 1, ou seja, $0<d_J<1$."
      ],
      "metadata": {
        "id": "gSmPopTjW8vR"
      }
    },
    {
      "cell_type": "markdown",
      "source": [
        "# Similaridade e distância de atributos binários assimétricos\n",
        "\n",
        "### O que é um atributo binário? \n",
        "Dizemos que um atributo binário é aquele que é descrito por 2 únicas possibilidades: \n",
        "- **0** se um atributo **não está presente**;\n",
        "- **1** se um atributo **está presente**.\n",
        "\n",
        "### E qual é a assimetria desses atributos? \n",
        "\n",
        "A assimetria associada decorre de **como ponderamos** tais situações. A presença de atributos 1 é considerada 'mais importante' que a ausência dela, ou seja, 0. \n",
        "\n",
        "#### Matematicamente \n",
        "- **Similaridade de Jaccard**: \n",
        "\n",
        "$$ J = \\frac{M_{11}}{M_{01} + M_{10} + M_{11}}$$\n",
        "\n",
        "- **Distância de Jaccard**: \n",
        "\n",
        "$$ J = \\frac{M_{01} + M_{10}}{M_{01} + M_{10} + M_{11}} = 1-J$$\n",
        "\n",
        "#### Notação \n",
        "\n",
        "- $M_{11}$ é o número total de atributos em que **A e B têm 1**; \n",
        "\n",
        "- $M_{01}$ é o número total de atributos, para os quais **A tem 0** e **B tem 1**;\n",
        "- $M_{10}$ é o número total de atributos nos quais **A tem 1** e **B tem 0**;\n",
        "- $M_{00}$ é o número total de atributos para os quais **A e B têm 0**.\n",
        "- Os N atributos são resultado da soma de todos os casos acima. \n",
        "\n",
        "\n",
        "#### Exemplo: \n",
        "\n",
        "Suponha uma loja que possui 6 produtos (atributos) e 2 clientes (objetos). \n",
        "\n",
        "- Cliente A comprou: maçã, café com leite\n",
        "- Cliente B comprou: ovos, leite, café\n",
        "\n",
        "|\t-- |Apple |Tomato| Eggs|\tMilk\t|Coffee\t| Sugar\n",
        "|--- |----- |----- |--- |--- |--- |--- |\n",
        "| A  |\t1 |\t0 |\t0 |\t1 |\t1\t |1 |\n",
        "B\t| 0 |\t0 |\t1 |\t1 |\t1 |\t0 |\n",
        "\n",
        "| --| Quantidade | explicação\n",
        "|--- |----- |----- \n",
        "M11 |\t2|\t\tBoth customers bought coffee and milk\n",
        "M01 |\t\t1|\t\tCustomer A didn’t buy eggs, whereas Customer B bought eggs\n",
        "M10 |\t2\t |Customer B didn’t buy apple and sugar, whereas Customer 1 bought apple and sugar\n",
        "M00\t |1\t | Neither of customers bought tomato\n",
        "\n",
        "**Similaridade Jaccard**\n",
        "$$J=\\frac{M_{11}}{M_{01}+M_{10}+M_{11}}=\\frac{2}{1+2+2}=\\frac{2}{5}=0.4$$\n",
        "\n",
        "**Distância Jaccard**\n",
        "$$d_J=\\frac{M_{01}+M_{01}}{M_{01}+M_{10}+M_{11}}=\\frac{1+2}{1+2+2}=\\frac{3}{5}=0.6$$\n",
        "Que corresponde fazer:\n",
        "$$d_J= 1 - J_{A,B} = 1-0,4=0,6$$"
      ],
      "metadata": {
        "id": "Hj8COJDaZz-e"
      }
    },
    {
      "cell_type": "markdown",
      "source": [
        "# Codigo - Calculando Jaccard na mão"
      ],
      "metadata": {
        "id": "Mj2iLTSQvqgP"
      }
    },
    {
      "cell_type": "code",
      "source": [
        "import numpy as np\n",
        "import scipy \n",
        "import sklearn"
      ],
      "metadata": {
        "id": "WfQNGQJUwJ05"
      },
      "execution_count": null,
      "outputs": []
    },
    {
      "cell_type": "code",
      "source": [
        "# Seja dois conjuntos \n",
        "A = {1, 2, 3, 5, 7}\n",
        "B = {1, 2, 4, 8, 9}"
      ],
      "metadata": {
        "id": "FvCvhy4NrN2r"
      },
      "execution_count": null,
      "outputs": []
    },
    {
      "cell_type": "code",
      "execution_count": null,
      "metadata": {
        "id": "fKQr2lJufuZf",
        "colab": {
          "base_uri": "https://localhost:8080/"
        },
        "outputId": "3d224058-dd19-4906-804d-4691f9a39920"
      },
      "outputs": [
        {
          "output_type": "stream",
          "name": "stdout",
          "text": [
            "0.25\n"
          ]
        }
      ],
      "source": [
        "def jaccard_similarity(A, B):\n",
        "    #Find intersection of two sets\n",
        "    nominator = A.intersection(B)\n",
        "\n",
        "    #Find union of two sets\n",
        "    denominator = A.union(B)\n",
        "\n",
        "    #Take the ratio of sizes\n",
        "    similarity = len(nominator)/len(denominator)\n",
        "    \n",
        "    return similarity\n",
        "\n",
        "def main():\n",
        "  print(jaccard_similarity(A, B))\n",
        "  \n",
        "if (__name__ == '__main__'):\n",
        "    main()"
      ]
    },
    {
      "cell_type": "markdown",
      "source": [
        "# Codigo - Calculando distância Jaccard na mão"
      ],
      "metadata": {
        "id": "AQG8vZOCxOg4"
      }
    },
    {
      "cell_type": "code",
      "source": [
        "def jaccard_distance(A, B):\n",
        "    #Find symmetric difference of two sets\n",
        "    nominator = A.symmetric_difference(B)\n",
        "\n",
        "    #Find union of two sets\n",
        "    denominator = A.union(B)\n",
        "\n",
        "    #Take the ratio of sizes\n",
        "    distance = len(nominator)/len(denominator)\n",
        "    \n",
        "    return distance\n",
        "    \n",
        "def main():\n",
        "  print(jaccard_distance(A, B))\n",
        "  \n",
        "if (__name__ == '__main__'):\n",
        "    main()"
      ],
      "metadata": {
        "colab": {
          "base_uri": "https://localhost:8080/"
        },
        "id": "9e7aUp0HxX1x",
        "outputId": "3340d8a7-88d4-4a66-ebbc-df5f0b99e3f1"
      },
      "execution_count": null,
      "outputs": [
        {
          "output_type": "stream",
          "name": "stdout",
          "text": [
            "0.75\n"
          ]
        }
      ]
    },
    {
      "cell_type": "code",
      "source": [
        "# ou \n",
        "def jaccard_dist(A,B):\n",
        "  return (1-similarity)\n",
        "\n",
        "def main(): \n",
        "  print(jaccard_dist)\n",
        "def main():\n",
        "  print(jaccard_dist(A,B))\n",
        "  \n",
        "if (__name__ == '__main__'):\n",
        "    main()"
      ],
      "metadata": {
        "colab": {
          "base_uri": "https://localhost:8080/"
        },
        "id": "OSUrN_ebxkT0",
        "outputId": "08d4a9c1-ede0-4351-d9d0-272e841be25a"
      },
      "execution_count": null,
      "outputs": [
        {
          "output_type": "stream",
          "name": "stdout",
          "text": [
            "0.75\n"
          ]
        }
      ]
    },
    {
      "cell_type": "markdown",
      "source": [
        "# Calculando a similaridade e a distância Jaccard para um atributo binário assimétrico\n"
      ],
      "metadata": {
        "id": "TWBqFJbIzE5G"
      }
    },
    {
      "cell_type": "code",
      "source": [
        "import numpy as np\n",
        "from scipy.spatial.distance import jaccard\n",
        "from sklearn.metrics import jaccard_score"
      ],
      "metadata": {
        "id": "KgWXmB7azEb7"
      },
      "execution_count": null,
      "outputs": []
    },
    {
      "cell_type": "code",
      "source": [
        "# Com o exemplo do mercado \n",
        "A = np.array([1,0,0,1,1,1])\n",
        "B = np.array([0,0,1,1,1,0])"
      ],
      "metadata": {
        "id": "JnXjWvnszU1k"
      },
      "execution_count": null,
      "outputs": []
    },
    {
      "cell_type": "code",
      "source": [
        "similarity = jaccard_score(A, B)\n",
        "distance = jaccard(A, B)\n",
        "\n",
        "print(f'Jaccard similarity is equal to: {similarity}')\n",
        "print(f'Jaccard distance is equal to: {distance}')"
      ],
      "metadata": {
        "colab": {
          "base_uri": "https://localhost:8080/"
        },
        "id": "dcA_XUhRzcdb",
        "outputId": "39abf2b7-1793-494f-c888-9ac6a58e60ad"
      },
      "execution_count": null,
      "outputs": [
        {
          "output_type": "stream",
          "name": "stdout",
          "text": [
            "Jaccard similarity is equal to: 0.4\n",
            "Jaccard distance is equal to: 0.6\n"
          ]
        }
      ]
    },
    {
      "cell_type": "markdown",
      "source": [
        "# Refazendo Flags \n"
      ],
      "metadata": {
        "id": "576AupA-zn9l"
      }
    },
    {
      "cell_type": "code",
      "source": [
        "import networkx as nx\n",
        "import matplotlib.pyplot as plt\n",
        "import pandas as pd\n",
        "from google.colab import files \n",
        "import io \n",
        "import numpy as np\n",
        "from sklearn.metrics import jaccard_score\n",
        "from sklearn.metrics import pairwise_distances\n",
        "import seaborn as sns #importando o tema para visualização \n",
        "from google.colab import drive\n",
        "from scipy.spatial import distance"
      ],
      "metadata": {
        "id": "UblAEwDFzwaL"
      },
      "execution_count": 12,
      "outputs": []
    },
    {
      "cell_type": "code",
      "source": [
        "drive.mount('/content/drive')"
      ],
      "metadata": {
        "colab": {
          "base_uri": "https://localhost:8080/"
        },
        "id": "T9N7wH2xz9LI",
        "outputId": "fb7cf84e-f532-45f0-c7f3-19952061ba04"
      },
      "execution_count": 5,
      "outputs": [
        {
          "output_type": "stream",
          "name": "stdout",
          "text": [
            "Mounted at /content/drive\n"
          ]
        }
      ]
    },
    {
      "cell_type": "code",
      "source": [
        "# Dataframe completo\n",
        "df = pd.read_csv('/content/drive/My Drive/IC/datasets/8-7L-flags.csv', sep=',')\n",
        "display(df)"
      ],
      "metadata": {
        "colab": {
          "base_uri": "https://localhost:8080/",
          "height": 488
        },
        "id": "6Ymns1LY0Qn_",
        "outputId": "7a24ce8c-dfdb-47bb-a1c0-e235629166e8"
      },
      "execution_count": 6,
      "outputs": [
        {
          "output_type": "display_data",
          "data": {
            "text/plain": [
              "     landmass  zone  area  population  language  religion  bars  stripes  \\\n",
              "0           5     1   648          16        10         2     0        3   \n",
              "1           3     1    29           3         6         6     0        0   \n",
              "2           4     1  2388          20         8         2     2        0   \n",
              "3           6     3     0           0         1         1     0        0   \n",
              "4           3     1     0           0         6         0     3        0   \n",
              "..        ...   ...   ...         ...       ...       ...   ...      ...   \n",
              "189         6     3     3           0         1         1     0        0   \n",
              "190         3     1   256          22         6         6     0        3   \n",
              "191         4     2   905          28        10         5     0        0   \n",
              "192         4     2   753           6        10         5     3        0   \n",
              "193         4     2   391           8        10         5     0        7   \n",
              "\n",
              "     colours  circles  ...  icon  animate  text  red  green  blue  yellow  \\\n",
              "0          5        0  ...     1        0     0    1      1     0       1   \n",
              "1          3        0  ...     0        1     0    1      0     0       1   \n",
              "2          3        0  ...     0        0     0    1      1     0       0   \n",
              "3          5        0  ...     1        1     0    1      0     1       1   \n",
              "4          3        0  ...     0        0     0    1      0     1       1   \n",
              "..       ...      ...  ...   ...      ...   ...  ...    ...   ...     ...   \n",
              "189        3        0  ...     0        0     0    1      0     1       0   \n",
              "190        4        0  ...     0        0     0    1      0     1       1   \n",
              "191        4        1  ...     1        1     0    1      1     0       1   \n",
              "192        4        0  ...     0        1     0    1      1     0       0   \n",
              "193        5        0  ...     1        1     0    1      1     0       1   \n",
              "\n",
              "     white  black  orange  \n",
              "0        1      1       0  \n",
              "1        0      1       0  \n",
              "2        1      0       0  \n",
              "3        1      0       1  \n",
              "4        0      0       0  \n",
              "..     ...    ...     ...  \n",
              "189      1      0       0  \n",
              "190      1      0       0  \n",
              "191      0      0       1  \n",
              "192      0      1       1  \n",
              "193      1      1       0  \n",
              "\n",
              "[194 rows x 26 columns]"
            ],
            "text/html": [
              "\n",
              "  <div id=\"df-6ddbfc80-e1f7-436e-b261-10a473e7d96b\">\n",
              "    <div class=\"colab-df-container\">\n",
              "      <div>\n",
              "<style scoped>\n",
              "    .dataframe tbody tr th:only-of-type {\n",
              "        vertical-align: middle;\n",
              "    }\n",
              "\n",
              "    .dataframe tbody tr th {\n",
              "        vertical-align: top;\n",
              "    }\n",
              "\n",
              "    .dataframe thead th {\n",
              "        text-align: right;\n",
              "    }\n",
              "</style>\n",
              "<table border=\"1\" class=\"dataframe\">\n",
              "  <thead>\n",
              "    <tr style=\"text-align: right;\">\n",
              "      <th></th>\n",
              "      <th>landmass</th>\n",
              "      <th>zone</th>\n",
              "      <th>area</th>\n",
              "      <th>population</th>\n",
              "      <th>language</th>\n",
              "      <th>religion</th>\n",
              "      <th>bars</th>\n",
              "      <th>stripes</th>\n",
              "      <th>colours</th>\n",
              "      <th>circles</th>\n",
              "      <th>...</th>\n",
              "      <th>icon</th>\n",
              "      <th>animate</th>\n",
              "      <th>text</th>\n",
              "      <th>red</th>\n",
              "      <th>green</th>\n",
              "      <th>blue</th>\n",
              "      <th>yellow</th>\n",
              "      <th>white</th>\n",
              "      <th>black</th>\n",
              "      <th>orange</th>\n",
              "    </tr>\n",
              "  </thead>\n",
              "  <tbody>\n",
              "    <tr>\n",
              "      <th>0</th>\n",
              "      <td>5</td>\n",
              "      <td>1</td>\n",
              "      <td>648</td>\n",
              "      <td>16</td>\n",
              "      <td>10</td>\n",
              "      <td>2</td>\n",
              "      <td>0</td>\n",
              "      <td>3</td>\n",
              "      <td>5</td>\n",
              "      <td>0</td>\n",
              "      <td>...</td>\n",
              "      <td>1</td>\n",
              "      <td>0</td>\n",
              "      <td>0</td>\n",
              "      <td>1</td>\n",
              "      <td>1</td>\n",
              "      <td>0</td>\n",
              "      <td>1</td>\n",
              "      <td>1</td>\n",
              "      <td>1</td>\n",
              "      <td>0</td>\n",
              "    </tr>\n",
              "    <tr>\n",
              "      <th>1</th>\n",
              "      <td>3</td>\n",
              "      <td>1</td>\n",
              "      <td>29</td>\n",
              "      <td>3</td>\n",
              "      <td>6</td>\n",
              "      <td>6</td>\n",
              "      <td>0</td>\n",
              "      <td>0</td>\n",
              "      <td>3</td>\n",
              "      <td>0</td>\n",
              "      <td>...</td>\n",
              "      <td>0</td>\n",
              "      <td>1</td>\n",
              "      <td>0</td>\n",
              "      <td>1</td>\n",
              "      <td>0</td>\n",
              "      <td>0</td>\n",
              "      <td>1</td>\n",
              "      <td>0</td>\n",
              "      <td>1</td>\n",
              "      <td>0</td>\n",
              "    </tr>\n",
              "    <tr>\n",
              "      <th>2</th>\n",
              "      <td>4</td>\n",
              "      <td>1</td>\n",
              "      <td>2388</td>\n",
              "      <td>20</td>\n",
              "      <td>8</td>\n",
              "      <td>2</td>\n",
              "      <td>2</td>\n",
              "      <td>0</td>\n",
              "      <td>3</td>\n",
              "      <td>0</td>\n",
              "      <td>...</td>\n",
              "      <td>0</td>\n",
              "      <td>0</td>\n",
              "      <td>0</td>\n",
              "      <td>1</td>\n",
              "      <td>1</td>\n",
              "      <td>0</td>\n",
              "      <td>0</td>\n",
              "      <td>1</td>\n",
              "      <td>0</td>\n",
              "      <td>0</td>\n",
              "    </tr>\n",
              "    <tr>\n",
              "      <th>3</th>\n",
              "      <td>6</td>\n",
              "      <td>3</td>\n",
              "      <td>0</td>\n",
              "      <td>0</td>\n",
              "      <td>1</td>\n",
              "      <td>1</td>\n",
              "      <td>0</td>\n",
              "      <td>0</td>\n",
              "      <td>5</td>\n",
              "      <td>0</td>\n",
              "      <td>...</td>\n",
              "      <td>1</td>\n",
              "      <td>1</td>\n",
              "      <td>0</td>\n",
              "      <td>1</td>\n",
              "      <td>0</td>\n",
              "      <td>1</td>\n",
              "      <td>1</td>\n",
              "      <td>1</td>\n",
              "      <td>0</td>\n",
              "      <td>1</td>\n",
              "    </tr>\n",
              "    <tr>\n",
              "      <th>4</th>\n",
              "      <td>3</td>\n",
              "      <td>1</td>\n",
              "      <td>0</td>\n",
              "      <td>0</td>\n",
              "      <td>6</td>\n",
              "      <td>0</td>\n",
              "      <td>3</td>\n",
              "      <td>0</td>\n",
              "      <td>3</td>\n",
              "      <td>0</td>\n",
              "      <td>...</td>\n",
              "      <td>0</td>\n",
              "      <td>0</td>\n",
              "      <td>0</td>\n",
              "      <td>1</td>\n",
              "      <td>0</td>\n",
              "      <td>1</td>\n",
              "      <td>1</td>\n",
              "      <td>0</td>\n",
              "      <td>0</td>\n",
              "      <td>0</td>\n",
              "    </tr>\n",
              "    <tr>\n",
              "      <th>...</th>\n",
              "      <td>...</td>\n",
              "      <td>...</td>\n",
              "      <td>...</td>\n",
              "      <td>...</td>\n",
              "      <td>...</td>\n",
              "      <td>...</td>\n",
              "      <td>...</td>\n",
              "      <td>...</td>\n",
              "      <td>...</td>\n",
              "      <td>...</td>\n",
              "      <td>...</td>\n",
              "      <td>...</td>\n",
              "      <td>...</td>\n",
              "      <td>...</td>\n",
              "      <td>...</td>\n",
              "      <td>...</td>\n",
              "      <td>...</td>\n",
              "      <td>...</td>\n",
              "      <td>...</td>\n",
              "      <td>...</td>\n",
              "      <td>...</td>\n",
              "    </tr>\n",
              "    <tr>\n",
              "      <th>189</th>\n",
              "      <td>6</td>\n",
              "      <td>3</td>\n",
              "      <td>3</td>\n",
              "      <td>0</td>\n",
              "      <td>1</td>\n",
              "      <td>1</td>\n",
              "      <td>0</td>\n",
              "      <td>0</td>\n",
              "      <td>3</td>\n",
              "      <td>0</td>\n",
              "      <td>...</td>\n",
              "      <td>0</td>\n",
              "      <td>0</td>\n",
              "      <td>0</td>\n",
              "      <td>1</td>\n",
              "      <td>0</td>\n",
              "      <td>1</td>\n",
              "      <td>0</td>\n",
              "      <td>1</td>\n",
              "      <td>0</td>\n",
              "      <td>0</td>\n",
              "    </tr>\n",
              "    <tr>\n",
              "      <th>190</th>\n",
              "      <td>3</td>\n",
              "      <td>1</td>\n",
              "      <td>256</td>\n",
              "      <td>22</td>\n",
              "      <td>6</td>\n",
              "      <td>6</td>\n",
              "      <td>0</td>\n",
              "      <td>3</td>\n",
              "      <td>4</td>\n",
              "      <td>0</td>\n",
              "      <td>...</td>\n",
              "      <td>0</td>\n",
              "      <td>0</td>\n",
              "      <td>0</td>\n",
              "      <td>1</td>\n",
              "      <td>0</td>\n",
              "      <td>1</td>\n",
              "      <td>1</td>\n",
              "      <td>1</td>\n",
              "      <td>0</td>\n",
              "      <td>0</td>\n",
              "    </tr>\n",
              "    <tr>\n",
              "      <th>191</th>\n",
              "      <td>4</td>\n",
              "      <td>2</td>\n",
              "      <td>905</td>\n",
              "      <td>28</td>\n",
              "      <td>10</td>\n",
              "      <td>5</td>\n",
              "      <td>0</td>\n",
              "      <td>0</td>\n",
              "      <td>4</td>\n",
              "      <td>1</td>\n",
              "      <td>...</td>\n",
              "      <td>1</td>\n",
              "      <td>1</td>\n",
              "      <td>0</td>\n",
              "      <td>1</td>\n",
              "      <td>1</td>\n",
              "      <td>0</td>\n",
              "      <td>1</td>\n",
              "      <td>0</td>\n",
              "      <td>0</td>\n",
              "      <td>1</td>\n",
              "    </tr>\n",
              "    <tr>\n",
              "      <th>192</th>\n",
              "      <td>4</td>\n",
              "      <td>2</td>\n",
              "      <td>753</td>\n",
              "      <td>6</td>\n",
              "      <td>10</td>\n",
              "      <td>5</td>\n",
              "      <td>3</td>\n",
              "      <td>0</td>\n",
              "      <td>4</td>\n",
              "      <td>0</td>\n",
              "      <td>...</td>\n",
              "      <td>0</td>\n",
              "      <td>1</td>\n",
              "      <td>0</td>\n",
              "      <td>1</td>\n",
              "      <td>1</td>\n",
              "      <td>0</td>\n",
              "      <td>0</td>\n",
              "      <td>0</td>\n",
              "      <td>1</td>\n",
              "      <td>1</td>\n",
              "    </tr>\n",
              "    <tr>\n",
              "      <th>193</th>\n",
              "      <td>4</td>\n",
              "      <td>2</td>\n",
              "      <td>391</td>\n",
              "      <td>8</td>\n",
              "      <td>10</td>\n",
              "      <td>5</td>\n",
              "      <td>0</td>\n",
              "      <td>7</td>\n",
              "      <td>5</td>\n",
              "      <td>0</td>\n",
              "      <td>...</td>\n",
              "      <td>1</td>\n",
              "      <td>1</td>\n",
              "      <td>0</td>\n",
              "      <td>1</td>\n",
              "      <td>1</td>\n",
              "      <td>0</td>\n",
              "      <td>1</td>\n",
              "      <td>1</td>\n",
              "      <td>1</td>\n",
              "      <td>0</td>\n",
              "    </tr>\n",
              "  </tbody>\n",
              "</table>\n",
              "<p>194 rows × 26 columns</p>\n",
              "</div>\n",
              "      <button class=\"colab-df-convert\" onclick=\"convertToInteractive('df-6ddbfc80-e1f7-436e-b261-10a473e7d96b')\"\n",
              "              title=\"Convert this dataframe to an interactive table.\"\n",
              "              style=\"display:none;\">\n",
              "        \n",
              "  <svg xmlns=\"http://www.w3.org/2000/svg\" height=\"24px\"viewBox=\"0 0 24 24\"\n",
              "       width=\"24px\">\n",
              "    <path d=\"M0 0h24v24H0V0z\" fill=\"none\"/>\n",
              "    <path d=\"M18.56 5.44l.94 2.06.94-2.06 2.06-.94-2.06-.94-.94-2.06-.94 2.06-2.06.94zm-11 1L8.5 8.5l.94-2.06 2.06-.94-2.06-.94L8.5 2.5l-.94 2.06-2.06.94zm10 10l.94 2.06.94-2.06 2.06-.94-2.06-.94-.94-2.06-.94 2.06-2.06.94z\"/><path d=\"M17.41 7.96l-1.37-1.37c-.4-.4-.92-.59-1.43-.59-.52 0-1.04.2-1.43.59L10.3 9.45l-7.72 7.72c-.78.78-.78 2.05 0 2.83L4 21.41c.39.39.9.59 1.41.59.51 0 1.02-.2 1.41-.59l7.78-7.78 2.81-2.81c.8-.78.8-2.07 0-2.86zM5.41 20L4 18.59l7.72-7.72 1.47 1.35L5.41 20z\"/>\n",
              "  </svg>\n",
              "      </button>\n",
              "      \n",
              "  <style>\n",
              "    .colab-df-container {\n",
              "      display:flex;\n",
              "      flex-wrap:wrap;\n",
              "      gap: 12px;\n",
              "    }\n",
              "\n",
              "    .colab-df-convert {\n",
              "      background-color: #E8F0FE;\n",
              "      border: none;\n",
              "      border-radius: 50%;\n",
              "      cursor: pointer;\n",
              "      display: none;\n",
              "      fill: #1967D2;\n",
              "      height: 32px;\n",
              "      padding: 0 0 0 0;\n",
              "      width: 32px;\n",
              "    }\n",
              "\n",
              "    .colab-df-convert:hover {\n",
              "      background-color: #E2EBFA;\n",
              "      box-shadow: 0px 1px 2px rgba(60, 64, 67, 0.3), 0px 1px 3px 1px rgba(60, 64, 67, 0.15);\n",
              "      fill: #174EA6;\n",
              "    }\n",
              "\n",
              "    [theme=dark] .colab-df-convert {\n",
              "      background-color: #3B4455;\n",
              "      fill: #D2E3FC;\n",
              "    }\n",
              "\n",
              "    [theme=dark] .colab-df-convert:hover {\n",
              "      background-color: #434B5C;\n",
              "      box-shadow: 0px 1px 3px 1px rgba(0, 0, 0, 0.15);\n",
              "      filter: drop-shadow(0px 1px 2px rgba(0, 0, 0, 0.3));\n",
              "      fill: #FFFFFF;\n",
              "    }\n",
              "  </style>\n",
              "\n",
              "      <script>\n",
              "        const buttonEl =\n",
              "          document.querySelector('#df-6ddbfc80-e1f7-436e-b261-10a473e7d96b button.colab-df-convert');\n",
              "        buttonEl.style.display =\n",
              "          google.colab.kernel.accessAllowed ? 'block' : 'none';\n",
              "\n",
              "        async function convertToInteractive(key) {\n",
              "          const element = document.querySelector('#df-6ddbfc80-e1f7-436e-b261-10a473e7d96b');\n",
              "          const dataTable =\n",
              "            await google.colab.kernel.invokeFunction('convertToInteractive',\n",
              "                                                     [key], {});\n",
              "          if (!dataTable) return;\n",
              "\n",
              "          const docLinkHtml = 'Like what you see? Visit the ' +\n",
              "            '<a target=\"_blank\" href=https://colab.research.google.com/notebooks/data_table.ipynb>data table notebook</a>'\n",
              "            + ' to learn more about interactive tables.';\n",
              "          element.innerHTML = '';\n",
              "          dataTable['output_type'] = 'display_data';\n",
              "          await google.colab.output.renderOutput(dataTable, element);\n",
              "          const docLink = document.createElement('div');\n",
              "          docLink.innerHTML = docLinkHtml;\n",
              "          element.appendChild(docLink);\n",
              "        }\n",
              "      </script>\n",
              "    </div>\n",
              "  </div>\n",
              "  "
            ]
          },
          "metadata": {}
        }
      ]
    },
    {
      "cell_type": "code",
      "source": [
        "M = df[['red', 'green', 'blue', 'yellow', 'white', 'black', 'orange']]\n",
        "display(M)"
      ],
      "metadata": {
        "colab": {
          "base_uri": "https://localhost:8080/",
          "height": 424
        },
        "id": "E6fH08Tf2HGc",
        "outputId": "288b8594-915f-446c-fe7d-f3725f9ed8b2"
      },
      "execution_count": 7,
      "outputs": [
        {
          "output_type": "display_data",
          "data": {
            "text/plain": [
              "     red  green  blue  yellow  white  black  orange\n",
              "0      1      1     0       1      1      1       0\n",
              "1      1      0     0       1      0      1       0\n",
              "2      1      1     0       0      1      0       0\n",
              "3      1      0     1       1      1      0       1\n",
              "4      1      0     1       1      0      0       0\n",
              "..   ...    ...   ...     ...    ...    ...     ...\n",
              "189    1      0     1       0      1      0       0\n",
              "190    1      0     1       1      1      0       0\n",
              "191    1      1     0       1      0      0       1\n",
              "192    1      1     0       0      0      1       1\n",
              "193    1      1     0       1      1      1       0\n",
              "\n",
              "[194 rows x 7 columns]"
            ],
            "text/html": [
              "\n",
              "  <div id=\"df-f2de8ee4-8a10-4ef7-bd01-78145a24dddc\">\n",
              "    <div class=\"colab-df-container\">\n",
              "      <div>\n",
              "<style scoped>\n",
              "    .dataframe tbody tr th:only-of-type {\n",
              "        vertical-align: middle;\n",
              "    }\n",
              "\n",
              "    .dataframe tbody tr th {\n",
              "        vertical-align: top;\n",
              "    }\n",
              "\n",
              "    .dataframe thead th {\n",
              "        text-align: right;\n",
              "    }\n",
              "</style>\n",
              "<table border=\"1\" class=\"dataframe\">\n",
              "  <thead>\n",
              "    <tr style=\"text-align: right;\">\n",
              "      <th></th>\n",
              "      <th>red</th>\n",
              "      <th>green</th>\n",
              "      <th>blue</th>\n",
              "      <th>yellow</th>\n",
              "      <th>white</th>\n",
              "      <th>black</th>\n",
              "      <th>orange</th>\n",
              "    </tr>\n",
              "  </thead>\n",
              "  <tbody>\n",
              "    <tr>\n",
              "      <th>0</th>\n",
              "      <td>1</td>\n",
              "      <td>1</td>\n",
              "      <td>0</td>\n",
              "      <td>1</td>\n",
              "      <td>1</td>\n",
              "      <td>1</td>\n",
              "      <td>0</td>\n",
              "    </tr>\n",
              "    <tr>\n",
              "      <th>1</th>\n",
              "      <td>1</td>\n",
              "      <td>0</td>\n",
              "      <td>0</td>\n",
              "      <td>1</td>\n",
              "      <td>0</td>\n",
              "      <td>1</td>\n",
              "      <td>0</td>\n",
              "    </tr>\n",
              "    <tr>\n",
              "      <th>2</th>\n",
              "      <td>1</td>\n",
              "      <td>1</td>\n",
              "      <td>0</td>\n",
              "      <td>0</td>\n",
              "      <td>1</td>\n",
              "      <td>0</td>\n",
              "      <td>0</td>\n",
              "    </tr>\n",
              "    <tr>\n",
              "      <th>3</th>\n",
              "      <td>1</td>\n",
              "      <td>0</td>\n",
              "      <td>1</td>\n",
              "      <td>1</td>\n",
              "      <td>1</td>\n",
              "      <td>0</td>\n",
              "      <td>1</td>\n",
              "    </tr>\n",
              "    <tr>\n",
              "      <th>4</th>\n",
              "      <td>1</td>\n",
              "      <td>0</td>\n",
              "      <td>1</td>\n",
              "      <td>1</td>\n",
              "      <td>0</td>\n",
              "      <td>0</td>\n",
              "      <td>0</td>\n",
              "    </tr>\n",
              "    <tr>\n",
              "      <th>...</th>\n",
              "      <td>...</td>\n",
              "      <td>...</td>\n",
              "      <td>...</td>\n",
              "      <td>...</td>\n",
              "      <td>...</td>\n",
              "      <td>...</td>\n",
              "      <td>...</td>\n",
              "    </tr>\n",
              "    <tr>\n",
              "      <th>189</th>\n",
              "      <td>1</td>\n",
              "      <td>0</td>\n",
              "      <td>1</td>\n",
              "      <td>0</td>\n",
              "      <td>1</td>\n",
              "      <td>0</td>\n",
              "      <td>0</td>\n",
              "    </tr>\n",
              "    <tr>\n",
              "      <th>190</th>\n",
              "      <td>1</td>\n",
              "      <td>0</td>\n",
              "      <td>1</td>\n",
              "      <td>1</td>\n",
              "      <td>1</td>\n",
              "      <td>0</td>\n",
              "      <td>0</td>\n",
              "    </tr>\n",
              "    <tr>\n",
              "      <th>191</th>\n",
              "      <td>1</td>\n",
              "      <td>1</td>\n",
              "      <td>0</td>\n",
              "      <td>1</td>\n",
              "      <td>0</td>\n",
              "      <td>0</td>\n",
              "      <td>1</td>\n",
              "    </tr>\n",
              "    <tr>\n",
              "      <th>192</th>\n",
              "      <td>1</td>\n",
              "      <td>1</td>\n",
              "      <td>0</td>\n",
              "      <td>0</td>\n",
              "      <td>0</td>\n",
              "      <td>1</td>\n",
              "      <td>1</td>\n",
              "    </tr>\n",
              "    <tr>\n",
              "      <th>193</th>\n",
              "      <td>1</td>\n",
              "      <td>1</td>\n",
              "      <td>0</td>\n",
              "      <td>1</td>\n",
              "      <td>1</td>\n",
              "      <td>1</td>\n",
              "      <td>0</td>\n",
              "    </tr>\n",
              "  </tbody>\n",
              "</table>\n",
              "<p>194 rows × 7 columns</p>\n",
              "</div>\n",
              "      <button class=\"colab-df-convert\" onclick=\"convertToInteractive('df-f2de8ee4-8a10-4ef7-bd01-78145a24dddc')\"\n",
              "              title=\"Convert this dataframe to an interactive table.\"\n",
              "              style=\"display:none;\">\n",
              "        \n",
              "  <svg xmlns=\"http://www.w3.org/2000/svg\" height=\"24px\"viewBox=\"0 0 24 24\"\n",
              "       width=\"24px\">\n",
              "    <path d=\"M0 0h24v24H0V0z\" fill=\"none\"/>\n",
              "    <path d=\"M18.56 5.44l.94 2.06.94-2.06 2.06-.94-2.06-.94-.94-2.06-.94 2.06-2.06.94zm-11 1L8.5 8.5l.94-2.06 2.06-.94-2.06-.94L8.5 2.5l-.94 2.06-2.06.94zm10 10l.94 2.06.94-2.06 2.06-.94-2.06-.94-.94-2.06-.94 2.06-2.06.94z\"/><path d=\"M17.41 7.96l-1.37-1.37c-.4-.4-.92-.59-1.43-.59-.52 0-1.04.2-1.43.59L10.3 9.45l-7.72 7.72c-.78.78-.78 2.05 0 2.83L4 21.41c.39.39.9.59 1.41.59.51 0 1.02-.2 1.41-.59l7.78-7.78 2.81-2.81c.8-.78.8-2.07 0-2.86zM5.41 20L4 18.59l7.72-7.72 1.47 1.35L5.41 20z\"/>\n",
              "  </svg>\n",
              "      </button>\n",
              "      \n",
              "  <style>\n",
              "    .colab-df-container {\n",
              "      display:flex;\n",
              "      flex-wrap:wrap;\n",
              "      gap: 12px;\n",
              "    }\n",
              "\n",
              "    .colab-df-convert {\n",
              "      background-color: #E8F0FE;\n",
              "      border: none;\n",
              "      border-radius: 50%;\n",
              "      cursor: pointer;\n",
              "      display: none;\n",
              "      fill: #1967D2;\n",
              "      height: 32px;\n",
              "      padding: 0 0 0 0;\n",
              "      width: 32px;\n",
              "    }\n",
              "\n",
              "    .colab-df-convert:hover {\n",
              "      background-color: #E2EBFA;\n",
              "      box-shadow: 0px 1px 2px rgba(60, 64, 67, 0.3), 0px 1px 3px 1px rgba(60, 64, 67, 0.15);\n",
              "      fill: #174EA6;\n",
              "    }\n",
              "\n",
              "    [theme=dark] .colab-df-convert {\n",
              "      background-color: #3B4455;\n",
              "      fill: #D2E3FC;\n",
              "    }\n",
              "\n",
              "    [theme=dark] .colab-df-convert:hover {\n",
              "      background-color: #434B5C;\n",
              "      box-shadow: 0px 1px 3px 1px rgba(0, 0, 0, 0.15);\n",
              "      filter: drop-shadow(0px 1px 2px rgba(0, 0, 0, 0.3));\n",
              "      fill: #FFFFFF;\n",
              "    }\n",
              "  </style>\n",
              "\n",
              "      <script>\n",
              "        const buttonEl =\n",
              "          document.querySelector('#df-f2de8ee4-8a10-4ef7-bd01-78145a24dddc button.colab-df-convert');\n",
              "        buttonEl.style.display =\n",
              "          google.colab.kernel.accessAllowed ? 'block' : 'none';\n",
              "\n",
              "        async function convertToInteractive(key) {\n",
              "          const element = document.querySelector('#df-f2de8ee4-8a10-4ef7-bd01-78145a24dddc');\n",
              "          const dataTable =\n",
              "            await google.colab.kernel.invokeFunction('convertToInteractive',\n",
              "                                                     [key], {});\n",
              "          if (!dataTable) return;\n",
              "\n",
              "          const docLinkHtml = 'Like what you see? Visit the ' +\n",
              "            '<a target=\"_blank\" href=https://colab.research.google.com/notebooks/data_table.ipynb>data table notebook</a>'\n",
              "            + ' to learn more about interactive tables.';\n",
              "          element.innerHTML = '';\n",
              "          dataTable['output_type'] = 'display_data';\n",
              "          await google.colab.output.renderOutput(dataTable, element);\n",
              "          const docLink = document.createElement('div');\n",
              "          docLink.innerHTML = docLinkHtml;\n",
              "          element.appendChild(docLink);\n",
              "        }\n",
              "      </script>\n",
              "    </div>\n",
              "  </div>\n",
              "  "
            ]
          },
          "metadata": {}
        }
      ]
    },
    {
      "cell_type": "code",
      "source": [
        "# transpondo a matriz\n",
        "M_t = np.array(M).T\n",
        "display(M_t)"
      ],
      "metadata": {
        "colab": {
          "base_uri": "https://localhost:8080/",
          "height": 139
        },
        "id": "HJU9duW72Soh",
        "outputId": "01e0526b-3780-4b13-a0a1-ad6569150b36"
      },
      "execution_count": 8,
      "outputs": [
        {
          "output_type": "display_data",
          "data": {
            "text/plain": [
              "array([[1, 1, 1, ..., 1, 1, 1],\n",
              "       [1, 0, 1, ..., 1, 1, 1],\n",
              "       [0, 0, 0, ..., 0, 0, 0],\n",
              "       ...,\n",
              "       [1, 0, 1, ..., 0, 0, 1],\n",
              "       [1, 1, 0, ..., 0, 1, 1],\n",
              "       [0, 0, 0, ..., 1, 1, 0]])"
            ]
          },
          "metadata": {}
        }
      ]
    },
    {
      "cell_type": "code",
      "source": [
        "from sklearn.metrics import jaccard_score\n",
        "from sklearn.metrics import pairwise_distances\n",
        "import seaborn as sns #importando o tema para visualização "
      ],
      "metadata": {
        "id": "6XNt_x4d2aH8"
      },
      "execution_count": null,
      "outputs": []
    },
    {
      "cell_type": "markdown",
      "source": [
        "## Jaccard"
      ],
      "metadata": {
        "id": "KIlP-MJIl4pE"
      }
    },
    {
      "cell_type": "code",
      "source": [
        "def calc_matriz_distancia_jaccard(M_t):\n",
        "  np.set_printoptions(precision=3)\n",
        "  distance_matrix = pairwise_distances(M_t, metric=jaccard_score)\n",
        "  return distance_matrix\n",
        "\n",
        "def main():\n",
        "  M_t = np.array(M).T\n",
        "  print(calc_matriz_distancia_jaccard(M_t))\n",
        "\n",
        "if (__name__ == '__main__'):\n",
        "    main()"
      ],
      "metadata": {
        "colab": {
          "base_uri": "https://localhost:8080/"
        },
        "id": "62E590tL3RB6",
        "outputId": "025756b2-d15f-426b-cb4d-7724fe3c9885"
      },
      "execution_count": null,
      "outputs": [
        {
          "output_type": "stream",
          "name": "stdout",
          "text": [
            "[[1.    0.427 0.385 0.444 0.616 0.289 0.119]\n",
            " [0.427 1.    0.203 0.4   0.362 0.254 0.206]\n",
            " [0.385 0.203 1.    0.338 0.551 0.119 0.147]\n",
            " [0.444 0.4   0.338 1.    0.267 0.324 0.147]\n",
            " [0.616 0.362 0.551 0.267 1.    0.207 0.147]\n",
            " [0.289 0.254 0.119 0.324 0.207 1.    0.083]\n",
            " [0.119 0.206 0.147 0.147 0.147 0.083 1.   ]]\n"
          ]
        }
      ]
    },
    {
      "cell_type": "code",
      "source": [
        "# Gerando o heatmap\n",
        "distance_matrix = pairwise_distances(M_t, metric=jaccard_score)\n",
        "ax = sns.heatmap(distance_matrix, annot=True, vmin=0, vmax=1, cmap=\"Blues\", cbar=True, xticklabels=True, yticklabels=True)\n",
        "\n",
        "# Configurando\n",
        "ax.set_yticklabels(ax.get_yticklabels(), rotation = 0, fontsize = 5)\n",
        "ax.set_xticklabels(ax.get_xticklabels(), rotation = 90, fontsize = 5)\n",
        "\n",
        "figure = ax.get_figure()"
      ],
      "metadata": {
        "colab": {
          "base_uri": "https://localhost:8080/",
          "height": 263
        },
        "id": "nuoUoe444nXq",
        "outputId": "e2106367-797c-4e7a-aff0-8d279cbc367e"
      },
      "execution_count": 56,
      "outputs": [
        {
          "output_type": "display_data",
          "data": {
            "text/plain": [
              "<Figure size 432x288 with 2 Axes>"
            ],
            "image/png": "[encoded data removed]"
          },
          "metadata": {
            "needs_background": "light"
          }
        }
      ]
    },
    {
      "cell_type": "code",
      "source": [
        "# Grafo completo sem self loop\n",
        "G = nx.from_numpy_matrix(distance_matrix)\n",
        "list(nx.selfloop_edges(G))\n",
        "G.remove_edges_from(nx.selfloop_edges(G))\n",
        "nx.draw(G, with_labels=True, node_color='blue', node_size = 1500) \n",
        "plt.show()"
      ],
      "metadata": {
        "colab": {
          "base_uri": "https://localhost:8080/",
          "height": 319
        },
        "id": "FG-85Uv24T8D",
        "outputId": "a4d1ce17-07a6-418d-ccf4-8266d215df67"
      },
      "execution_count": 51,
      "outputs": [
        {
          "output_type": "display_data",
          "data": {
            "text/plain": [
              "<Figure size 432x288 with 1 Axes>"
            ],
            "image/png": "[encoded data removed]"
          },
          "metadata": {}
        }
      ]
    },
    {
      "cell_type": "markdown",
      "source": [
        "## Rogers Tanimoto"
      ],
      "metadata": {
        "id": "YAcIOIXcl7kv"
      }
    },
    {
      "cell_type": "code",
      "source": [
        "def calc_matriz_distancia_rogers(M_t):\n",
        "  np.set_printoptions(precision=3)\n",
        "  distance_matrix_rogers= pairwise_distances(M_t, metric='rogerstanimoto')\n",
        "  return distance_matrix_rogers\n",
        "\n",
        "def main():\n",
        "  M_t = np.array(M).T\n",
        "  print(calc_matriz_distancia_rogers(M_t))\n",
        "\n",
        "if (__name__ == '__main__'):\n",
        "    main()"
      ],
      "metadata": {
        "colab": {
          "base_uri": "https://localhost:8080/"
        },
        "id": "t7eTn_WdeZq-",
        "outputId": "b90279bc-2cb2-4a97-d47c-5d137c842758"
      },
      "execution_count": 13,
      "outputs": [
        {
          "output_type": "stream",
          "name": "stdout",
          "text": [
            "[[0.    0.671 0.732 0.653 0.536 0.736 0.842]\n",
            " [0.671 0.    0.787 0.574 0.728 0.609 0.568]\n",
            " [0.732 0.787 0.    0.653 0.536 0.76  0.648]\n",
            " [0.653 0.574 0.653 0.    0.828 0.547 0.619]\n",
            " [0.536 0.728 0.536 0.828 0.    0.802 0.795]\n",
            " [0.736 0.609 0.76  0.547 0.802 0.    0.508]\n",
            " [0.842 0.568 0.648 0.619 0.795 0.508 0.   ]]\n"
          ]
        },
        {
          "output_type": "stream",
          "name": "stderr",
          "text": [
            "/usr/local/lib/python3.7/dist-packages/sklearn/metrics/pairwise.py:1875: DataConversionWarning: Data was converted to boolean for metric rogerstanimoto\n",
            "  warnings.warn(msg, DataConversionWarning)\n"
          ]
        }
      ]
    },
    {
      "cell_type": "code",
      "source": [
        "# Gerando o heatmap\n",
        "distance_matrix_rogers = pairwise_distances(M_t, metric='rogerstanimoto')\n",
        "ax2 = sns.heatmap(distance_matrix_rogers, annot=True, vmin=0, vmax=1, cmap='Purples', cbar=True, xticklabels=True, yticklabels=True)\n",
        "\n",
        "# Configurando\n",
        "ax2.set_yticklabels(ax2.get_yticklabels(), rotation = 0, fontsize = 5)\n",
        "ax2.set_xticklabels(ax2.get_xticklabels(), rotation = 90, fontsize = 5)\n",
        "\n",
        "figure = ax2.get_figure()"
      ],
      "metadata": {
        "colab": {
          "base_uri": "https://localhost:8080/",
          "height": 318
        },
        "id": "WmS1a4tWg4Uh",
        "outputId": "7a9fcb1f-7878-42d0-9dda-f5e6f2f91c03"
      },
      "execution_count": 55,
      "outputs": [
        {
          "output_type": "stream",
          "name": "stderr",
          "text": [
            "/usr/local/lib/python3.7/dist-packages/sklearn/metrics/pairwise.py:1875: DataConversionWarning: Data was converted to boolean for metric rogerstanimoto\n",
            "  warnings.warn(msg, DataConversionWarning)\n"
          ]
        },
        {
          "output_type": "display_data",
          "data": {
            "text/plain": [
              "<Figure size 432x288 with 2 Axes>"
            ],
            "image/png": "[encoded data removed]"
          },
          "metadata": {
            "needs_background": "light"
          }
        }
      ]
    },
    {
      "cell_type": "code",
      "source": [
        "# Grafo completo sem self loop\n",
        "G_rogers = nx.from_numpy_matrix(distance_matrix_rogers)\n",
        "list(nx.selfloop_edges(G_rogers))\n",
        "G_rogers.remove_edges_from(nx.selfloop_edges(G_rogers))\n",
        "nx.draw(G_rogers, with_labels=True, node_color='purple', node_size = 1500) \n",
        "plt.show()"
      ],
      "metadata": {
        "colab": {
          "base_uri": "https://localhost:8080/",
          "height": 319
        },
        "id": "au4ukJxMmAtu",
        "outputId": "af926682-b6dc-407e-a3e3-b007ccf93dd8"
      },
      "execution_count": 54,
      "outputs": [
        {
          "output_type": "display_data",
          "data": {
            "text/plain": [
              "<Figure size 432x288 with 1 Axes>"
            ],
            "image/png": "[encoded data removed]"
          },
          "metadata": {}
        }
      ]
    },
    {
      "cell_type": "code",
      "source": [
        "sns.scatterplot(data=distance_matrix_rogers)\n",
        "plt.show()"
      ],
      "metadata": {
        "colab": {
          "base_uri": "https://localhost:8080/",
          "height": 265
        },
        "id": "TdL5DQBzvnmO",
        "outputId": "97694ef2-ad3a-4c80-c030-23b74a05b3d8"
      },
      "execution_count": 60,
      "outputs": [
        {
          "output_type": "display_data",
          "data": {
            "text/plain": [
              "<Figure size 432x288 with 1 Axes>"
            ],
            "image/png": "[encoded data removed]"
          },
          "metadata": {
            "needs_background": "light"
          }
        }
      ]
    },
    {
      "cell_type": "code",
      "source": [
        "sns.scatterplot(data=distance_matrix)\n",
        "plt.show()"
      ],
      "metadata": {
        "colab": {
          "base_uri": "https://localhost:8080/",
          "height": 265
        },
        "id": "8qY_1YPFw3uA",
        "outputId": "b172e04d-1026-40bf-a162-a31b1843697e"
      },
      "execution_count": 61,
      "outputs": [
        {
          "output_type": "display_data",
          "data": {
            "text/plain": [
              "<Figure size 432x288 with 1 Axes>"
            ],
            "image/png": "[encoded data removed]"
          },
          "metadata": {
            "needs_background": "light"
          }
        }
      ]
    },
    {
      "cell_type": "markdown",
      "source": [
        "## Esparsificação "
      ],
      "metadata": {
        "id": "IS6TxQoyoknv"
      }
    }
  ]
}